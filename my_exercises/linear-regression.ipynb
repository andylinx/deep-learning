{
  "cells": [
    {
      "cell_type": "code",
      "execution_count": 1,
      "id": "f4e39fa9-5f1d-4363-9e1a-f14b3a4d0a26",
      "metadata": {
        "id": "f4e39fa9-5f1d-4363-9e1a-f14b3a4d0a26"
      },
      "outputs": [],
      "source": [
        "import torch\n",
        "import random"
      ]
    },
    {
      "cell_type": "code",
      "execution_count": null,
      "id": "0c57858b-d6eb-4d57-b047-298e9aad0e0b",
      "metadata": {
        "id": "0c57858b-d6eb-4d57-b047-298e9aad0e0b"
      },
      "outputs": [],
      "source": []
    },
    {
      "cell_type": "markdown",
      "source": [
        "我们尝试随机生成一组线性数据，有一定的噪声"
      ],
      "metadata": {
        "id": "GMevs2pumH74"
      },
      "id": "GMevs2pumH74"
    }
  ],
  "metadata": {
    "kernelspec": {
      "display_name": "Python 3 (ipykernel)",
      "language": "python",
      "name": "python3"
    },
    "language_info": {
      "codemirror_mode": {
        "name": "ipython",
        "version": 3
      },
      "file_extension": ".py",
      "mimetype": "text/x-python",
      "name": "python",
      "nbconvert_exporter": "python",
      "pygments_lexer": "ipython3",
      "version": "3.12.0"
    },
    "colab": {
      "provenance": []
    }
  },
  "nbformat": 4,
  "nbformat_minor": 5
}